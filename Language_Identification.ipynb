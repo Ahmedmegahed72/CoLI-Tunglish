{
 "cells": [
  {
   "cell_type": "markdown",
   "id": "06d1155a",
   "metadata": {},
   "source": [
    "# CoLI-Tunglish Dataset \n",
    "Dataset link https://drive.google.com/file/d/1m0qQ9vrI9GZeKTiOV0YVjaAZ8h7Riaa8/view\n",
    "\n",
    "The CoLI-Tunglish dataset consists of Tulu, Kannada, and English words in Roman script and are grouped into seven major categories, namely, \"Tulu\", “Kannada”, “English”, “Mixed-language”, “Name”, “Location” and “Other”. Each word in the Test set has to be assigned with one of these seven categories. \n"
   ]
  },
  {
   "cell_type": "markdown",
   "id": "5c75660a",
   "metadata": {},
   "source": [
    "# Step 1: Reading dataset\n"
   ]
  },
  {
   "cell_type": "code",
   "execution_count": 1,
   "id": "90fd14a6",
   "metadata": {},
   "outputs": [],
   "source": [
    "import pandas as pd\n",
    "import numpy as np\n",
    "import matplotlib.pyplot as plt\n",
    "%matplotlib inline"
   ]
  },
  {
   "cell_type": "code",
   "execution_count": 5,
   "id": "2076e0e8",
   "metadata": {},
   "outputs": [],
   "source": [
    "train_data = pd.read_csv('data/train.csv')\n",
    "val_data = pd.read_csv('data/val.csv')\n",
    "test_data = pd.read_csv('data/test_without_labels.csv')\n"
   ]
  },
  {
   "cell_type": "markdown",
   "id": "d518d08d",
   "metadata": {},
   "source": [
    "## Training data"
   ]
  },
  {
   "cell_type": "code",
   "execution_count": 6,
   "id": "cd0bcba5",
   "metadata": {},
   "outputs": [
    {
     "data": {
      "text/html": [
       "<div>\n",
       "<style scoped>\n",
       "    .dataframe tbody tr th:only-of-type {\n",
       "        vertical-align: middle;\n",
       "    }\n",
       "\n",
       "    .dataframe tbody tr th {\n",
       "        vertical-align: top;\n",
       "    }\n",
       "\n",
       "    .dataframe thead th {\n",
       "        text-align: right;\n",
       "    }\n",
       "</style>\n",
       "<table border=\"1\" class=\"dataframe\">\n",
       "  <thead>\n",
       "    <tr style=\"text-align: right;\">\n",
       "      <th></th>\n",
       "      <th>Words</th>\n",
       "      <th>Language</th>\n",
       "    </tr>\n",
       "  </thead>\n",
       "  <tbody>\n",
       "    <tr>\n",
       "      <th>0</th>\n",
       "      <td>Oo</td>\n",
       "      <td>English</td>\n",
       "    </tr>\n",
       "    <tr>\n",
       "      <th>1</th>\n",
       "      <td>anna</td>\n",
       "      <td>Kannada</td>\n",
       "    </tr>\n",
       "    <tr>\n",
       "      <th>2</th>\n",
       "      <td>ninna</td>\n",
       "      <td>Tulu</td>\n",
       "    </tr>\n",
       "    <tr>\n",
       "      <th>3</th>\n",
       "      <td>pukuli</td>\n",
       "      <td>Tulu</td>\n",
       "    </tr>\n",
       "    <tr>\n",
       "      <th>4</th>\n",
       "      <td>naddh</td>\n",
       "      <td>Tulu</td>\n",
       "    </tr>\n",
       "    <tr>\n",
       "      <th>5</th>\n",
       "      <td>korpa</td>\n",
       "      <td>Tulu</td>\n",
       "    </tr>\n",
       "    <tr>\n",
       "      <th>6</th>\n",
       "      <td>.</td>\n",
       "      <td>sym</td>\n",
       "    </tr>\n",
       "    <tr>\n",
       "      <th>7</th>\n",
       "      <td>shivam</td>\n",
       "      <td>Name</td>\n",
       "    </tr>\n",
       "    <tr>\n",
       "      <th>8</th>\n",
       "      <td>music</td>\n",
       "      <td>English</td>\n",
       "    </tr>\n",
       "    <tr>\n",
       "      <th>9</th>\n",
       "      <td>movie</td>\n",
       "      <td>English</td>\n",
       "    </tr>\n",
       "  </tbody>\n",
       "</table>\n",
       "</div>"
      ],
      "text/plain": [
       "    Words Language\n",
       "0      Oo  English\n",
       "1    anna  Kannada\n",
       "2   ninna     Tulu\n",
       "3  pukuli     Tulu\n",
       "4   naddh     Tulu\n",
       "5   korpa     Tulu\n",
       "6       .      sym\n",
       "7  shivam     Name\n",
       "8   music  English\n",
       "9   movie  English"
      ]
     },
     "execution_count": 6,
     "metadata": {},
     "output_type": "execute_result"
    }
   ],
   "source": [
    "train_data.head(10)"
   ]
  },
  {
   "cell_type": "code",
   "execution_count": 7,
   "id": "50d62a93",
   "metadata": {},
   "outputs": [
    {
     "data": {
      "text/plain": [
       "(21726, 2)"
      ]
     },
     "execution_count": 7,
     "metadata": {},
     "output_type": "execute_result"
    }
   ],
   "source": [
    "train_data.shape\n"
   ]
  },
  {
   "cell_type": "code",
   "execution_count": 8,
   "id": "1f00661d",
   "metadata": {},
   "outputs": [
    {
     "data": {
      "text/plain": [
       "Words       6\n",
       "Language    0\n",
       "dtype: int64"
      ]
     },
     "execution_count": 8,
     "metadata": {},
     "output_type": "execute_result"
    }
   ],
   "source": [
    "train_data.isnull().sum()"
   ]
  },
  {
   "cell_type": "code",
   "execution_count": 9,
   "id": "4cd7ee16",
   "metadata": {},
   "outputs": [
    {
     "data": {
      "text/plain": [
       "Words       0\n",
       "Language    0\n",
       "dtype: int64"
      ]
     },
     "execution_count": 9,
     "metadata": {},
     "output_type": "execute_result"
    }
   ],
   "source": [
    "train_data = train_data.dropna()\n",
    "train_data.isnull().sum()"
   ]
  },
  {
   "cell_type": "code",
   "execution_count": 10,
   "id": "31711456",
   "metadata": {},
   "outputs": [
    {
     "data": {
      "text/plain": [
       "Tulu        8645\n",
       "English     5499\n",
       "sym         3130\n",
       "Kannada     2065\n",
       "Name        1104\n",
       "Other        506\n",
       "Mixed        403\n",
       "Location     368\n",
       "Name: Language, dtype: int64"
      ]
     },
     "execution_count": 10,
     "metadata": {},
     "output_type": "execute_result"
    }
   ],
   "source": [
    "train_data.Language.value_counts()"
   ]
  },
  {
   "cell_type": "code",
   "execution_count": 11,
   "id": "e2ee23d8",
   "metadata": {},
   "outputs": [
    {
     "data": {
      "image/png": "[encoded data removed]",
      "text/plain": [
       "<Figure size 432x288 with 1 Axes>"
      ]
     },
     "metadata": {
      "needs_background": "light"
     },
     "output_type": "display_data"
    }
   ],
   "source": [
    "counts = train_data['Language'].value_counts()\n",
    "\n",
    "plt.bar(counts.index, counts.values)\n",
    "\n",
    "plt.xlabel('Category')\n",
    "plt.ylabel('Count')\n",
    "plt.title('Distribution of Categories')\n",
    "\n",
    "# Display the plot\n",
    "plt.show()"
   ]
  },
  {
   "cell_type": "markdown",
   "id": "2efd504f",
   "metadata": {},
   "source": [
    "### Data encoding [ training data ]"
   ]
  },
  {
   "cell_type": "code",
   "execution_count": 12,
   "id": "76f30a09",
   "metadata": {},
   "outputs": [
    {
     "name": "stdout",
     "output_type": "stream",
     "text": [
      "['English' 'Kannada' 'Tulu' 'sym' 'Name' 'Mixed' 'Location' 'Other']\n"
     ]
    }
   ],
   "source": [
    "print(train_data['Language'].unique())"
   ]
  },
  {
   "cell_type": "code",
   "execution_count": 13,
   "id": "4c680d3b",
   "metadata": {},
   "outputs": [
    {
     "data": {
      "text/html": [
       "<div>\n",
       "<style scoped>\n",
       "    .dataframe tbody tr th:only-of-type {\n",
       "        vertical-align: middle;\n",
       "    }\n",
       "\n",
       "    .dataframe tbody tr th {\n",
       "        vertical-align: top;\n",
       "    }\n",
       "\n",
       "    .dataframe thead th {\n",
       "        text-align: right;\n",
       "    }\n",
       "</style>\n",
       "<table border=\"1\" class=\"dataframe\">\n",
       "  <thead>\n",
       "    <tr style=\"text-align: right;\">\n",
       "      <th></th>\n",
       "      <th>Words</th>\n",
       "      <th>Language</th>\n",
       "    </tr>\n",
       "  </thead>\n",
       "  <tbody>\n",
       "    <tr>\n",
       "      <th>0</th>\n",
       "      <td>Oo</td>\n",
       "      <td>0</td>\n",
       "    </tr>\n",
       "    <tr>\n",
       "      <th>1</th>\n",
       "      <td>anna</td>\n",
       "      <td>1</td>\n",
       "    </tr>\n",
       "    <tr>\n",
       "      <th>2</th>\n",
       "      <td>ninna</td>\n",
       "      <td>3</td>\n",
       "    </tr>\n",
       "    <tr>\n",
       "      <th>3</th>\n",
       "      <td>pukuli</td>\n",
       "      <td>3</td>\n",
       "    </tr>\n",
       "    <tr>\n",
       "      <th>4</th>\n",
       "      <td>naddh</td>\n",
       "      <td>3</td>\n",
       "    </tr>\n",
       "    <tr>\n",
       "      <th>5</th>\n",
       "      <td>korpa</td>\n",
       "      <td>3</td>\n",
       "    </tr>\n",
       "    <tr>\n",
       "      <th>6</th>\n",
       "      <td>.</td>\n",
       "      <td>2</td>\n",
       "    </tr>\n",
       "    <tr>\n",
       "      <th>7</th>\n",
       "      <td>shivam</td>\n",
       "      <td>4</td>\n",
       "    </tr>\n",
       "    <tr>\n",
       "      <th>8</th>\n",
       "      <td>music</td>\n",
       "      <td>0</td>\n",
       "    </tr>\n",
       "    <tr>\n",
       "      <th>9</th>\n",
       "      <td>movie</td>\n",
       "      <td>0</td>\n",
       "    </tr>\n",
       "  </tbody>\n",
       "</table>\n",
       "</div>"
      ],
      "text/plain": [
       "    Words  Language\n",
       "0      Oo         0\n",
       "1    anna         1\n",
       "2   ninna         3\n",
       "3  pukuli         3\n",
       "4   naddh         3\n",
       "5   korpa         3\n",
       "6       .         2\n",
       "7  shivam         4\n",
       "8   music         0\n",
       "9   movie         0"
      ]
     },
     "execution_count": 13,
     "metadata": {},
     "output_type": "execute_result"
    }
   ],
   "source": [
    "data_encoded = train_data.replace({\n",
    "    'Language': {'English': 0, 'Kannada': 1,'sym':2,'Tulu': 3, 'Name': 4, 'Mixed': 5,'Location': 6, 'Other': 7},\n",
    "})\n",
    "\n",
    "data_encoded.head(10)"
   ]
  },
  {
   "cell_type": "code",
   "execution_count": 14,
   "id": "17501c02",
   "metadata": {},
   "outputs": [
    {
     "data": {
      "text/html": [
       "<div>\n",
       "<style scoped>\n",
       "    .dataframe tbody tr th:only-of-type {\n",
       "        vertical-align: middle;\n",
       "    }\n",
       "\n",
       "    .dataframe tbody tr th {\n",
       "        vertical-align: top;\n",
       "    }\n",
       "\n",
       "    .dataframe thead th {\n",
       "        text-align: right;\n",
       "    }\n",
       "</style>\n",
       "<table border=\"1\" class=\"dataframe\">\n",
       "  <thead>\n",
       "    <tr style=\"text-align: right;\">\n",
       "      <th></th>\n",
       "      <th>Words</th>\n",
       "      <th>Language</th>\n",
       "      <th>Word Length</th>\n",
       "    </tr>\n",
       "  </thead>\n",
       "  <tbody>\n",
       "    <tr>\n",
       "      <th>0</th>\n",
       "      <td>Oo</td>\n",
       "      <td>0</td>\n",
       "      <td>2</td>\n",
       "    </tr>\n",
       "    <tr>\n",
       "      <th>1</th>\n",
       "      <td>anna</td>\n",
       "      <td>1</td>\n",
       "      <td>4</td>\n",
       "    </tr>\n",
       "    <tr>\n",
       "      <th>2</th>\n",
       "      <td>ninna</td>\n",
       "      <td>3</td>\n",
       "      <td>5</td>\n",
       "    </tr>\n",
       "    <tr>\n",
       "      <th>3</th>\n",
       "      <td>pukuli</td>\n",
       "      <td>3</td>\n",
       "      <td>6</td>\n",
       "    </tr>\n",
       "    <tr>\n",
       "      <th>4</th>\n",
       "      <td>naddh</td>\n",
       "      <td>3</td>\n",
       "      <td>5</td>\n",
       "    </tr>\n",
       "    <tr>\n",
       "      <th>5</th>\n",
       "      <td>korpa</td>\n",
       "      <td>3</td>\n",
       "      <td>5</td>\n",
       "    </tr>\n",
       "    <tr>\n",
       "      <th>6</th>\n",
       "      <td>.</td>\n",
       "      <td>2</td>\n",
       "      <td>1</td>\n",
       "    </tr>\n",
       "    <tr>\n",
       "      <th>7</th>\n",
       "      <td>shivam</td>\n",
       "      <td>4</td>\n",
       "      <td>6</td>\n",
       "    </tr>\n",
       "    <tr>\n",
       "      <th>8</th>\n",
       "      <td>music</td>\n",
       "      <td>0</td>\n",
       "      <td>5</td>\n",
       "    </tr>\n",
       "    <tr>\n",
       "      <th>9</th>\n",
       "      <td>movie</td>\n",
       "      <td>0</td>\n",
       "      <td>5</td>\n",
       "    </tr>\n",
       "  </tbody>\n",
       "</table>\n",
       "</div>"
      ],
      "text/plain": [
       "    Words  Language  Word Length\n",
       "0      Oo         0            2\n",
       "1    anna         1            4\n",
       "2   ninna         3            5\n",
       "3  pukuli         3            6\n",
       "4   naddh         3            5\n",
       "5   korpa         3            5\n",
       "6       .         2            1\n",
       "7  shivam         4            6\n",
       "8   music         0            5\n",
       "9   movie         0            5"
      ]
     },
     "execution_count": 14,
     "metadata": {},
     "output_type": "execute_result"
    }
   ],
   "source": [
    "# create a new column(feature) 'Word Length' containing the total length of all the words in the 'Words' column\n",
    "\n",
    "data_encoded['Word Length'] = data_encoded.iloc[:, 0].apply(lambda x: sum(len(word) for word in x.split()))\n",
    "data_encoded.head(10)"
   ]
  },
  {
   "cell_type": "code",
   "execution_count": 15,
   "id": "fd03b585",
   "metadata": {},
   "outputs": [
    {
     "data": {
      "text/html": [
       "<div>\n",
       "<style scoped>\n",
       "    .dataframe tbody tr th:only-of-type {\n",
       "        vertical-align: middle;\n",
       "    }\n",
       "\n",
       "    .dataframe tbody tr th {\n",
       "        vertical-align: top;\n",
       "    }\n",
       "\n",
       "    .dataframe thead th {\n",
       "        text-align: right;\n",
       "    }\n",
       "</style>\n",
       "<table border=\"1\" class=\"dataframe\">\n",
       "  <thead>\n",
       "    <tr style=\"text-align: right;\">\n",
       "      <th></th>\n",
       "      <th>Words</th>\n",
       "      <th>Word Length</th>\n",
       "    </tr>\n",
       "  </thead>\n",
       "  <tbody>\n",
       "    <tr>\n",
       "      <th>0</th>\n",
       "      <td>Oo</td>\n",
       "      <td>2</td>\n",
       "    </tr>\n",
       "    <tr>\n",
       "      <th>1</th>\n",
       "      <td>anna</td>\n",
       "      <td>4</td>\n",
       "    </tr>\n",
       "    <tr>\n",
       "      <th>2</th>\n",
       "      <td>ninna</td>\n",
       "      <td>5</td>\n",
       "    </tr>\n",
       "    <tr>\n",
       "      <th>3</th>\n",
       "      <td>pukuli</td>\n",
       "      <td>6</td>\n",
       "    </tr>\n",
       "    <tr>\n",
       "      <th>4</th>\n",
       "      <td>naddh</td>\n",
       "      <td>5</td>\n",
       "    </tr>\n",
       "    <tr>\n",
       "      <th>5</th>\n",
       "      <td>korpa</td>\n",
       "      <td>5</td>\n",
       "    </tr>\n",
       "    <tr>\n",
       "      <th>6</th>\n",
       "      <td>.</td>\n",
       "      <td>1</td>\n",
       "    </tr>\n",
       "    <tr>\n",
       "      <th>7</th>\n",
       "      <td>shivam</td>\n",
       "      <td>6</td>\n",
       "    </tr>\n",
       "    <tr>\n",
       "      <th>8</th>\n",
       "      <td>music</td>\n",
       "      <td>5</td>\n",
       "    </tr>\n",
       "    <tr>\n",
       "      <th>9</th>\n",
       "      <td>movie</td>\n",
       "      <td>5</td>\n",
       "    </tr>\n",
       "  </tbody>\n",
       "</table>\n",
       "</div>"
      ],
      "text/plain": [
       "    Words  Word Length\n",
       "0      Oo            2\n",
       "1    anna            4\n",
       "2   ninna            5\n",
       "3  pukuli            6\n",
       "4   naddh            5\n",
       "5   korpa            5\n",
       "6       .            1\n",
       "7  shivam            6\n",
       "8   music            5\n",
       "9   movie            5"
      ]
     },
     "execution_count": 15,
     "metadata": {},
     "output_type": "execute_result"
    }
   ],
   "source": [
    "x_train = data_encoded.drop('Language', axis=1)\n",
    "y_train = data_encoded['Language']\n",
    "x_train.head(10)"
   ]
  },
  {
   "cell_type": "code",
   "execution_count": 16,
   "id": "00f32b42",
   "metadata": {},
   "outputs": [
    {
     "data": {
      "text/plain": [
       "0    0\n",
       "1    1\n",
       "2    3\n",
       "3    3\n",
       "4    3\n",
       "5    3\n",
       "6    2\n",
       "7    4\n",
       "8    0\n",
       "9    0\n",
       "Name: Language, dtype: int64"
      ]
     },
     "execution_count": 16,
     "metadata": {},
     "output_type": "execute_result"
    }
   ],
   "source": [
    "y_train.head(10)"
   ]
  },
  {
   "cell_type": "markdown",
   "id": "02525040",
   "metadata": {},
   "source": [
    "### Data encoding [ devolpment data ]"
   ]
  },
  {
   "cell_type": "code",
   "execution_count": 17,
   "id": "a390b904",
   "metadata": {},
   "outputs": [
    {
     "data": {
      "text/html": [
       "<div>\n",
       "<style scoped>\n",
       "    .dataframe tbody tr th:only-of-type {\n",
       "        vertical-align: middle;\n",
       "    }\n",
       "\n",
       "    .dataframe tbody tr th {\n",
       "        vertical-align: top;\n",
       "    }\n",
       "\n",
       "    .dataframe thead th {\n",
       "        text-align: right;\n",
       "    }\n",
       "</style>\n",
       "<table border=\"1\" class=\"dataframe\">\n",
       "  <thead>\n",
       "    <tr style=\"text-align: right;\">\n",
       "      <th></th>\n",
       "      <th>Words</th>\n",
       "      <th>Language</th>\n",
       "    </tr>\n",
       "  </thead>\n",
       "  <tbody>\n",
       "    <tr>\n",
       "      <th>0</th>\n",
       "      <td>Cute</td>\n",
       "      <td>English</td>\n",
       "    </tr>\n",
       "    <tr>\n",
       "      <th>1</th>\n",
       "      <td>aggi</td>\n",
       "      <td>Kannada</td>\n",
       "    </tr>\n",
       "    <tr>\n",
       "      <th>2</th>\n",
       "      <td>love</td>\n",
       "      <td>English</td>\n",
       "    </tr>\n",
       "    <tr>\n",
       "      <th>3</th>\n",
       "      <td>you</td>\n",
       "      <td>English</td>\n",
       "    </tr>\n",
       "    <tr>\n",
       "      <th>4</th>\n",
       "      <td>.</td>\n",
       "      <td>sym</td>\n",
       "    </tr>\n",
       "  </tbody>\n",
       "</table>\n",
       "</div>"
      ],
      "text/plain": [
       "  Words Language\n",
       "0  Cute  English\n",
       "1  aggi  Kannada\n",
       "2  love  English\n",
       "3   you  English\n",
       "4     .      sym"
      ]
     },
     "execution_count": 17,
     "metadata": {},
     "output_type": "execute_result"
    }
   ],
   "source": [
    "val_data.head(5)"
   ]
  },
  {
   "cell_type": "code",
   "execution_count": 18,
   "id": "09759f5e",
   "metadata": {},
   "outputs": [
    {
     "data": {
      "text/plain": [
       "Tulu        1461\n",
       "English      889\n",
       "sym          500\n",
       "Kannada      344\n",
       "Name         162\n",
       "Other        102\n",
       "Mixed         69\n",
       "Location      54\n",
       "Name: Language, dtype: int64"
      ]
     },
     "execution_count": 18,
     "metadata": {},
     "output_type": "execute_result"
    }
   ],
   "source": [
    "val_data.Language.value_counts()"
   ]
  },
  {
   "cell_type": "code",
   "execution_count": 19,
   "id": "742daadc",
   "metadata": {},
   "outputs": [],
   "source": [
    "val_data = val_data.dropna()\n",
    "\n",
    "val_data = val_data.replace({\n",
    "    'Language': {'English': 0, 'Kannada': 1,'sym':2,'Tulu': 3, 'Name': 4, 'Mixed': 5,'Location': 6, 'Other': 7},\n",
    "})\n"
   ]
  },
  {
   "cell_type": "code",
   "execution_count": 20,
   "id": "c4e85ef0",
   "metadata": {},
   "outputs": [],
   "source": [
    "# create a new column(feature) 'Word Length' containing the total length of all the words in the 'Words' column\n",
    "val_data['Word Length'] = val_data.iloc[:, 0].apply(lambda x: sum(len(word) for word in x.split()))\n",
    "\n",
    "x_val = val_data.drop('Language', axis=1)\n",
    "y_val = val_data['Language']\n"
   ]
  },
  {
   "cell_type": "code",
   "execution_count": 21,
   "id": "a3776400",
   "metadata": {},
   "outputs": [
    {
     "data": {
      "text/html": [
       "<div>\n",
       "<style scoped>\n",
       "    .dataframe tbody tr th:only-of-type {\n",
       "        vertical-align: middle;\n",
       "    }\n",
       "\n",
       "    .dataframe tbody tr th {\n",
       "        vertical-align: top;\n",
       "    }\n",
       "\n",
       "    .dataframe thead th {\n",
       "        text-align: right;\n",
       "    }\n",
       "</style>\n",
       "<table border=\"1\" class=\"dataframe\">\n",
       "  <thead>\n",
       "    <tr style=\"text-align: right;\">\n",
       "      <th></th>\n",
       "      <th>Words</th>\n",
       "      <th>Word Length</th>\n",
       "    </tr>\n",
       "  </thead>\n",
       "  <tbody>\n",
       "    <tr>\n",
       "      <th>0</th>\n",
       "      <td>Cute</td>\n",
       "      <td>4</td>\n",
       "    </tr>\n",
       "    <tr>\n",
       "      <th>1</th>\n",
       "      <td>aggi</td>\n",
       "      <td>4</td>\n",
       "    </tr>\n",
       "    <tr>\n",
       "      <th>2</th>\n",
       "      <td>love</td>\n",
       "      <td>4</td>\n",
       "    </tr>\n",
       "    <tr>\n",
       "      <th>3</th>\n",
       "      <td>you</td>\n",
       "      <td>3</td>\n",
       "    </tr>\n",
       "    <tr>\n",
       "      <th>4</th>\n",
       "      <td>.</td>\n",
       "      <td>1</td>\n",
       "    </tr>\n",
       "    <tr>\n",
       "      <th>5</th>\n",
       "      <td>Mobile</td>\n",
       "      <td>6</td>\n",
       "    </tr>\n",
       "    <tr>\n",
       "      <th>6</th>\n",
       "      <td>boduu</td>\n",
       "      <td>5</td>\n",
       "    </tr>\n",
       "    <tr>\n",
       "      <th>7</th>\n",
       "      <td>Wow</td>\n",
       "      <td>3</td>\n",
       "    </tr>\n",
       "    <tr>\n",
       "      <th>8</th>\n",
       "      <td>.</td>\n",
       "      <td>1</td>\n",
       "    </tr>\n",
       "    <tr>\n",
       "      <th>9</th>\n",
       "      <td>Bari</td>\n",
       "      <td>4</td>\n",
       "    </tr>\n",
       "  </tbody>\n",
       "</table>\n",
       "</div>"
      ],
      "text/plain": [
       "    Words  Word Length\n",
       "0    Cute            4\n",
       "1    aggi            4\n",
       "2    love            4\n",
       "3     you            3\n",
       "4       .            1\n",
       "5  Mobile            6\n",
       "6   boduu            5\n",
       "7     Wow            3\n",
       "8       .            1\n",
       "9    Bari            4"
      ]
     },
     "execution_count": 21,
     "metadata": {},
     "output_type": "execute_result"
    }
   ],
   "source": [
    "x_val.head(10)"
   ]
  },
  {
   "cell_type": "code",
   "execution_count": 22,
   "id": "90210ebf",
   "metadata": {},
   "outputs": [
    {
     "data": {
      "text/plain": [
       "0    0\n",
       "1    1\n",
       "2    0\n",
       "3    0\n",
       "4    2\n",
       "5    0\n",
       "6    3\n",
       "7    0\n",
       "8    2\n",
       "9    3\n",
       "Name: Language, dtype: int64"
      ]
     },
     "execution_count": 22,
     "metadata": {},
     "output_type": "execute_result"
    }
   ],
   "source": [
    "y_val.head(10)"
   ]
  },
  {
   "cell_type": "markdown",
   "id": "c30972f2",
   "metadata": {},
   "source": [
    "### Test data"
   ]
  },
  {
   "cell_type": "code",
   "execution_count": 23,
   "id": "41b3e00c",
   "metadata": {},
   "outputs": [
    {
     "data": {
      "text/html": [
       "<div>\n",
       "<style scoped>\n",
       "    .dataframe tbody tr th:only-of-type {\n",
       "        vertical-align: middle;\n",
       "    }\n",
       "\n",
       "    .dataframe tbody tr th {\n",
       "        vertical-align: top;\n",
       "    }\n",
       "\n",
       "    .dataframe thead th {\n",
       "        text-align: right;\n",
       "    }\n",
       "</style>\n",
       "<table border=\"1\" class=\"dataframe\">\n",
       "  <thead>\n",
       "    <tr style=\"text-align: right;\">\n",
       "      <th></th>\n",
       "      <th>Words</th>\n",
       "    </tr>\n",
       "  </thead>\n",
       "  <tbody>\n",
       "    <tr>\n",
       "      <th>0</th>\n",
       "      <td>E</td>\n",
       "    </tr>\n",
       "    <tr>\n",
       "      <th>1</th>\n",
       "      <td>Chanel</td>\n",
       "    </tr>\n",
       "    <tr>\n",
       "      <th>2</th>\n",
       "      <td>full</td>\n",
       "    </tr>\n",
       "    <tr>\n",
       "      <th>3</th>\n",
       "      <td>movie</td>\n",
       "    </tr>\n",
       "    <tr>\n",
       "      <th>4</th>\n",
       "      <td>padera</td>\n",
       "    </tr>\n",
       "    <tr>\n",
       "      <th>5</th>\n",
       "      <td>dumbu</td>\n",
       "    </tr>\n",
       "    <tr>\n",
       "      <th>6</th>\n",
       "      <td>bethe</td>\n",
       "    </tr>\n",
       "    <tr>\n",
       "      <th>7</th>\n",
       "      <td>yerandla</td>\n",
       "    </tr>\n",
       "    <tr>\n",
       "      <th>8</th>\n",
       "      <td>paduverandu</td>\n",
       "    </tr>\n",
       "    <tr>\n",
       "      <th>9</th>\n",
       "      <td>.</td>\n",
       "    </tr>\n",
       "  </tbody>\n",
       "</table>\n",
       "</div>"
      ],
      "text/plain": [
       "         Words\n",
       "0            E\n",
       "1       Chanel\n",
       "2         full\n",
       "3        movie\n",
       "4       padera\n",
       "5        dumbu\n",
       "6        bethe\n",
       "7     yerandla\n",
       "8  paduverandu\n",
       "9            ."
      ]
     },
     "execution_count": 23,
     "metadata": {},
     "output_type": "execute_result"
    }
   ],
   "source": [
    "test_data.head(10)"
   ]
  },
  {
   "cell_type": "code",
   "execution_count": 24,
   "id": "6053f618",
   "metadata": {},
   "outputs": [
    {
     "data": {
      "text/plain": [
       "(10505, 1)"
      ]
     },
     "execution_count": 24,
     "metadata": {},
     "output_type": "execute_result"
    }
   ],
   "source": [
    "test_data.shape"
   ]
  },
  {
   "cell_type": "code",
   "execution_count": 25,
   "id": "0c0493e7",
   "metadata": {},
   "outputs": [
    {
     "data": {
      "text/plain": [
       "Words    2\n",
       "dtype: int64"
      ]
     },
     "execution_count": 25,
     "metadata": {},
     "output_type": "execute_result"
    }
   ],
   "source": [
    "test_data.isnull().sum()"
   ]
  },
  {
   "cell_type": "code",
   "execution_count": 26,
   "id": "45e719cf",
   "metadata": {},
   "outputs": [
    {
     "data": {
      "text/html": [
       "<div>\n",
       "<style scoped>\n",
       "    .dataframe tbody tr th:only-of-type {\n",
       "        vertical-align: middle;\n",
       "    }\n",
       "\n",
       "    .dataframe tbody tr th {\n",
       "        vertical-align: top;\n",
       "    }\n",
       "\n",
       "    .dataframe thead th {\n",
       "        text-align: right;\n",
       "    }\n",
       "</style>\n",
       "<table border=\"1\" class=\"dataframe\">\n",
       "  <thead>\n",
       "    <tr style=\"text-align: right;\">\n",
       "      <th></th>\n",
       "      <th>Words</th>\n",
       "      <th>Word Length</th>\n",
       "    </tr>\n",
       "  </thead>\n",
       "  <tbody>\n",
       "    <tr>\n",
       "      <th>0</th>\n",
       "      <td>E</td>\n",
       "      <td>1</td>\n",
       "    </tr>\n",
       "    <tr>\n",
       "      <th>1</th>\n",
       "      <td>Chanel</td>\n",
       "      <td>6</td>\n",
       "    </tr>\n",
       "    <tr>\n",
       "      <th>2</th>\n",
       "      <td>full</td>\n",
       "      <td>4</td>\n",
       "    </tr>\n",
       "    <tr>\n",
       "      <th>3</th>\n",
       "      <td>movie</td>\n",
       "      <td>5</td>\n",
       "    </tr>\n",
       "    <tr>\n",
       "      <th>4</th>\n",
       "      <td>padera</td>\n",
       "      <td>6</td>\n",
       "    </tr>\n",
       "    <tr>\n",
       "      <th>5</th>\n",
       "      <td>dumbu</td>\n",
       "      <td>5</td>\n",
       "    </tr>\n",
       "    <tr>\n",
       "      <th>6</th>\n",
       "      <td>bethe</td>\n",
       "      <td>5</td>\n",
       "    </tr>\n",
       "    <tr>\n",
       "      <th>7</th>\n",
       "      <td>yerandla</td>\n",
       "      <td>8</td>\n",
       "    </tr>\n",
       "    <tr>\n",
       "      <th>8</th>\n",
       "      <td>paduverandu</td>\n",
       "      <td>11</td>\n",
       "    </tr>\n",
       "    <tr>\n",
       "      <th>9</th>\n",
       "      <td>.</td>\n",
       "      <td>1</td>\n",
       "    </tr>\n",
       "  </tbody>\n",
       "</table>\n",
       "</div>"
      ],
      "text/plain": [
       "         Words  Word Length\n",
       "0            E            1\n",
       "1       Chanel            6\n",
       "2         full            4\n",
       "3        movie            5\n",
       "4       padera            6\n",
       "5        dumbu            5\n",
       "6        bethe            5\n",
       "7     yerandla            8\n",
       "8  paduverandu           11\n",
       "9            .            1"
      ]
     },
     "execution_count": 26,
     "metadata": {},
     "output_type": "execute_result"
    }
   ],
   "source": [
    "# create a new column(feature) 'Word Length' containing the total length of all the words in the 'Words' column\n",
    "test_data['Word Length'] = test_data.iloc[:, 0].apply(lambda x: sum(len(word) for word in str(x).split()))\n",
    "\n",
    "# Print the first 10 rows of the DataFrame\n",
    "test_data.head(10)\n"
   ]
  },
  {
   "cell_type": "code",
   "execution_count": 27,
   "id": "68ecbae4",
   "metadata": {},
   "outputs": [
    {
     "data": {
      "text/plain": [
       "(10505, 1)"
      ]
     },
     "execution_count": 27,
     "metadata": {},
     "output_type": "execute_result"
    }
   ],
   "source": [
    "word_test_data=test_data['Words']\n",
    "word_test_data = word_test_data.to_frame()\n",
    "type(word_test_data)\n",
    "word_test_data.shape"
   ]
  },
  {
   "cell_type": "code",
   "execution_count": 28,
   "id": "20b8e4d0",
   "metadata": {},
   "outputs": [
    {
     "data": {
      "text/html": [
       "<div>\n",
       "<style scoped>\n",
       "    .dataframe tbody tr th:only-of-type {\n",
       "        vertical-align: middle;\n",
       "    }\n",
       "\n",
       "    .dataframe tbody tr th {\n",
       "        vertical-align: top;\n",
       "    }\n",
       "\n",
       "    .dataframe thead th {\n",
       "        text-align: right;\n",
       "    }\n",
       "</style>\n",
       "<table border=\"1\" class=\"dataframe\">\n",
       "  <thead>\n",
       "    <tr style=\"text-align: right;\">\n",
       "      <th></th>\n",
       "      <th>Words</th>\n",
       "    </tr>\n",
       "  </thead>\n",
       "  <tbody>\n",
       "    <tr>\n",
       "      <th>0</th>\n",
       "      <td>E</td>\n",
       "    </tr>\n",
       "    <tr>\n",
       "      <th>1</th>\n",
       "      <td>Chanel</td>\n",
       "    </tr>\n",
       "    <tr>\n",
       "      <th>2</th>\n",
       "      <td>full</td>\n",
       "    </tr>\n",
       "    <tr>\n",
       "      <th>3</th>\n",
       "      <td>movie</td>\n",
       "    </tr>\n",
       "    <tr>\n",
       "      <th>4</th>\n",
       "      <td>padera</td>\n",
       "    </tr>\n",
       "    <tr>\n",
       "      <th>5</th>\n",
       "      <td>dumbu</td>\n",
       "    </tr>\n",
       "    <tr>\n",
       "      <th>6</th>\n",
       "      <td>bethe</td>\n",
       "    </tr>\n",
       "    <tr>\n",
       "      <th>7</th>\n",
       "      <td>yerandla</td>\n",
       "    </tr>\n",
       "    <tr>\n",
       "      <th>8</th>\n",
       "      <td>paduverandu</td>\n",
       "    </tr>\n",
       "    <tr>\n",
       "      <th>9</th>\n",
       "      <td>.</td>\n",
       "    </tr>\n",
       "  </tbody>\n",
       "</table>\n",
       "</div>"
      ],
      "text/plain": [
       "         Words\n",
       "0            E\n",
       "1       Chanel\n",
       "2         full\n",
       "3        movie\n",
       "4       padera\n",
       "5        dumbu\n",
       "6        bethe\n",
       "7     yerandla\n",
       "8  paduverandu\n",
       "9            ."
      ]
     },
     "execution_count": 28,
     "metadata": {},
     "output_type": "execute_result"
    }
   ],
   "source": [
    "word_test_data.head(10)\n"
   ]
  },
  {
   "cell_type": "markdown",
   "id": "0bd6cab5",
   "metadata": {},
   "source": [
    "## ----------------------------------------------------"
   ]
  },
  {
   "cell_type": "code",
   "execution_count": 29,
   "id": "495980e5",
   "metadata": {},
   "outputs": [],
   "source": [
    "from sklearn.pipeline import Pipeline\n",
    "from sklearn.feature_extraction.text import TfidfVectorizer\n",
    "from sklearn import metrics\n",
    "from sklearn.metrics import f1_score\n",
    "import seaborn as sns"
   ]
  },
  {
   "cell_type": "code",
   "execution_count": 30,
   "id": "4b0ad9ca",
   "metadata": {},
   "outputs": [],
   "source": [
    "#preprocess function used to calculate tfidf of words column\n",
    "\n",
    "def preprocess(train, val=None, test_data=None):\n",
    "    # Create a TfidfVectorizer object and fit it on the training data\n",
    "    vectorizer = TfidfVectorizer(analyzer='char_wb',ngram_range=(1,4))\n",
    "    tfidf_matrix = vectorizer.fit_transform(train.iloc[:, 0])\n",
    "    # Convert the sparse matrix to a dense array\n",
    "    tfidf_array = tfidf_matrix.toarray()\n",
    "    # Combine the TF-IDF array and the word length column into a single array\n",
    "    x_train = np.hstack((tfidf_array, train.iloc[:, 1].values.reshape(-1, 1)))\n",
    "    if val is not None:\n",
    "        # Use the vocabulary learned on the training data to compute TF-IDF on the validation data\n",
    "        tfidf_matrix_val = vectorizer.transform(val.iloc[:, 0])\n",
    "        tfidf_array_val = tfidf_matrix_val.toarray()\n",
    "        x_val = np.hstack((tfidf_array_val, val.iloc[:, 1].values.reshape(-1, 1)))\n",
    "    if test_data is not None:\n",
    "        test_data['Words'].replace(to_replace=np.nan, value='', inplace=True)\n",
    "        # Use the vocabulary learned on the training data to compute TF-IDF on the text data\n",
    "        tfidf_matrix_data = vectorizer.transform(test_data.iloc[:, 0])\n",
    "        tfidf_array_data = tfidf_matrix_data.toarray()\n",
    "        x_data = np.hstack((tfidf_array_data, test_data.iloc[:, 1].values.reshape(-1, 1)))\n",
    "        if val is not None:\n",
    "            return x_train, x_val, x_data\n",
    "        else:\n",
    "            return x_train, x_data\n",
    "    else:\n",
    "        if val is not None:\n",
    "            return x_train, x_val\n",
    "        else:\n",
    "            return x_train\n",
    "    \n"
   ]
  },
  {
   "cell_type": "code",
   "execution_count": 31,
   "id": "2ad244b5",
   "metadata": {},
   "outputs": [],
   "source": [
    "#eval_model2 is a helper function used to train ml model and predict x_val ==> return f1_weighted,f1_macro \n",
    "\n",
    "x_train_tfidf, x_val_tfidf, x_test_tfidf = preprocess(x_train, x_val,test_data)\n",
    "\n",
    "def eval_model2(model, x_train, y_train, x_val, y_val):\n",
    "    model.fit(x_train, y_train)\n",
    "    predection=model.predict(x_val)\n",
    "    f1_weighted = f1_score(y_val, predection, average='weighted')\n",
    "    f1_macro = f1_score(y_val, predection, average='macro')\n",
    "    print(metrics.classification_report(y_val,predection))\n",
    "    plot_confusion(y_val,predection)\n",
    "    print(\"accuracy : \",metrics.accuracy_score(y_val,predection))\n",
    "    acc=metrics.accuracy_score(y_val,predection)\n",
    "    return f1_weighted,f1_macro\n",
    "\n"
   ]
  },
  {
   "cell_type": "code",
   "execution_count": 32,
   "id": "52aca439",
   "metadata": {},
   "outputs": [
    {
     "name": "stdout",
     "output_type": "stream",
     "text": [
      "[[0.21520835 0.         0.         ... 0.         0.         1.        ]\n",
      " [0.07185193 0.         0.         ... 0.         0.         6.        ]\n",
      " [0.09964604 0.         0.         ... 0.         0.         4.        ]\n",
      " ...\n",
      " [0.07505523 0.         0.         ... 0.         0.         4.        ]\n",
      " [0.06906245 0.         0.         ... 0.         0.         7.        ]\n",
      " [0.32232013 0.47331536 0.47331536 ... 0.         0.         1.        ]]\n"
     ]
    }
   ],
   "source": [
    "print(x_test_tfidf)"
   ]
  },
  {
   "cell_type": "code",
   "execution_count": 33,
   "id": "07f7179e",
   "metadata": {},
   "outputs": [],
   "source": [
    "#plot confustion used to calculate and plot the confusion matrix\n",
    "\n",
    "def plot_confusion(y_val,predection):\n",
    "    cm = metrics.confusion_matrix(y_val,predection)\n",
    "    fig, ax = plt.subplots(figsize=(8, 6))\n",
    "    sns.heatmap(cm, annot=True, cmap='Blues', ax=ax)\n",
    "    ax.set_xlabel('Predicted labels')\n",
    "    ax.set_ylabel('True labels')\n",
    "    ax.set_title('Confusion Matrix')\n",
    "    plt.show()"
   ]
  },
  {
   "cell_type": "code",
   "execution_count": 34,
   "id": "b8a9775e",
   "metadata": {},
   "outputs": [],
   "source": [
    "# creating a dictionary to store results\n",
    "results_dict = {\n",
    "    'model_name': [],\n",
    "    'f1_weighted': [],\n",
    "    'f1_macro': [],\n",
    "}\n",
    "def store_result(f1_weighted,f1_macro):\n",
    "    print('f1_weighted: ',f1_weighted)\n",
    "    print('f1_macro: ',f1_macro)\n",
    "    # storing results in results_dict\n",
    "    results_dict['model_name'].append(model.__class__.__name__)\n",
    "    results_dict['f1_weighted'].append(f1_weighted)\n",
    "    results_dict['f1_macro'].append(f1_macro)"
   ]
  },
  {
   "cell_type": "code",
   "execution_count": 32,
   "id": "94a859ec",
   "metadata": {},
   "outputs": [
    {
     "name": "stderr",
     "output_type": "stream",
     "text": [
      "C:\\Users\\DELL\\anaconda3\\envs\\neural\\lib\\site-packages\\sklearn\\svm\\_base.py:986: ConvergenceWarning: Liblinear failed to converge, increase the number of iterations.\n",
      "  \"the number of iterations.\", ConvergenceWarning)\n"
     ]
    },
    {
     "name": "stdout",
     "output_type": "stream",
     "text": [
      "              precision    recall  f1-score   support\n",
      "\n",
      "           0       0.93      0.94      0.94       889\n",
      "           1       0.79      0.72      0.75       344\n",
      "           2       1.00      1.00      1.00       500\n",
      "           3       0.89      0.94      0.91      1461\n",
      "           4       0.81      0.76      0.78       162\n",
      "           5       0.88      0.67      0.76        69\n",
      "           6       0.92      0.81      0.86        54\n",
      "           7       0.77      0.54      0.64       102\n",
      "\n",
      "    accuracy                           0.90      3581\n",
      "   macro avg       0.87      0.80      0.83      3581\n",
      "weighted avg       0.90      0.90      0.90      3581\n",
      "\n"
     ]
    },
    {
     "data": {
      "image/png": "[encoded data removed]",
      "text/plain": [
       "<Figure size 576x432 with 2 Axes>"
      ]
     },
     "metadata": {
      "needs_background": "light"
     },
     "output_type": "display_data"
    },
    {
     "name": "stdout",
     "output_type": "stream",
     "text": [
      "accuracy :  0.9005864283719631\n",
      "f1_weighted:  0.8980267540464822\n",
      "f1_macro:  0.8305184322292107\n"
     ]
    }
   ],
   "source": [
    "from sklearn.svm import LinearSVC\n",
    "\n",
    "model=LinearSVC()\n",
    "f1_weighted,f1_macro=eval_model2(model, x_train_tfidf, y_train, x_val_tfidf, y_val)\n",
    "store_result(f1_weighted,f1_macro)"
   ]
  },
  {
   "cell_type": "markdown",
   "id": "8af41e8e",
   "metadata": {},
   "source": [
    "- MPL with 10 nodes \n",
    " - accuracy :  0.8950013962580284\n",
    " - f1_weighted:  0.893515932957524\n",
    " - f1_macro:  0.8165357870881245\n",
    " \n",
    "------------------------------------\n",
    "- MPL with 20 nodes \n",
    "    - accuracy :  0.8983524155263892\n",
    "    - f1_weighted:  0.8960672139946988\n",
    "    - f1_macro:  0.8197858900406192\n",
    "------------------------------------\n",
    "- MPL with 30 nodes \n",
    "    - accuracy :  0.8958391510751187\n",
    "    - f1_weighted:  0.8939319945436291\n",
    "    - f1_macro:  0.8155892776344768\n",
    "------------------------------------\n",
    "- MPL with 40 nodes \n",
    "    - accuracy :  0.8952806478637252\n",
    "    - f1_weighted:  0.8941894225149445\n",
    "    - f1_macro:  0.8131726530673914"
   ]
  },
  {
   "cell_type": "code",
   "execution_count": 34,
   "id": "bcc98aee",
   "metadata": {},
   "outputs": [
    {
     "name": "stdout",
     "output_type": "stream",
     "text": [
      "              precision    recall  f1-score   support\n",
      "\n",
      "           0       0.88      0.86      0.87       889\n",
      "           1       0.64      0.59      0.62       344\n",
      "           2       0.99      1.00      0.99       500\n",
      "           3       0.80      0.90      0.85      1461\n",
      "           4       0.74      0.63      0.68       162\n",
      "           5       0.86      0.35      0.49        69\n",
      "           6       0.77      0.80      0.78        54\n",
      "           7       0.57      0.13      0.21       102\n",
      "\n",
      "    accuracy                           0.83      3581\n",
      "   macro avg       0.78      0.66      0.69      3581\n",
      "weighted avg       0.82      0.83      0.82      3581\n",
      "\n"
     ]
    },
    {
     "data": {
      "image/png": "[encoded data removed]",
      "text/plain": [
       "<Figure size 576x432 with 2 Axes>"
      ]
     },
     "metadata": {
      "needs_background": "light"
     },
     "output_type": "display_data"
    },
    {
     "name": "stdout",
     "output_type": "stream",
     "text": [
      "accuracy :  0.8279810108908127\n",
      "f1_weighted:  0.8173460486177491\n",
      "f1_macro:  0.6863011469395806\n"
     ]
    }
   ],
   "source": [
    "from sklearn.neighbors import KNeighborsClassifier\n",
    "\n",
    "model = KNeighborsClassifier(n_neighbors = 12, metric = 'minkowski', p = 2)\n",
    "f1_weighted,f1_macro=eval_model2(model, x_train_tfidf, y_train, x_val_tfidf, y_val)\n",
    "store_result(f1_weighted,f1_macro)"
   ]
  },
  {
   "cell_type": "code",
   "execution_count": 35,
   "id": "fc325089",
   "metadata": {},
   "outputs": [
    {
     "name": "stdout",
     "output_type": "stream",
     "text": [
      "              precision    recall  f1-score   support\n",
      "\n",
      "           0       0.85      0.82      0.84       889\n",
      "           1       0.38      0.57      0.45       344\n",
      "           2       1.00      1.00      1.00       500\n",
      "           3       0.88      0.63      0.73      1461\n",
      "           4       0.48      0.83      0.61       162\n",
      "           5       0.42      0.61      0.49        69\n",
      "           6       0.73      0.81      0.77        54\n",
      "           7       0.28      0.63      0.39       102\n",
      "\n",
      "    accuracy                           0.73      3581\n",
      "   macro avg       0.63      0.74      0.66      3581\n",
      "weighted avg       0.80      0.73      0.75      3581\n",
      "\n"
     ]
    },
    {
     "data": {
      "image/png": "[encoded data removed]",
      "text/plain": [
       "<Figure size 576x432 with 2 Axes>"
      ]
     },
     "metadata": {
      "needs_background": "light"
     },
     "output_type": "display_data"
    },
    {
     "name": "stdout",
     "output_type": "stream",
     "text": [
      "accuracy :  0.7330354649539235\n",
      "f1_weighted:  0.74959761366596\n",
      "f1_macro:  0.660279495421324\n"
     ]
    }
   ],
   "source": [
    "from sklearn.naive_bayes import GaussianNB\n",
    "model = GaussianNB()\n",
    "f1_weighted,f1_macro=eval_model2(model, x_train_tfidf, y_train, x_val_tfidf, y_val)\n",
    "store_result(f1_weighted,f1_macro)"
   ]
  },
  {
   "cell_type": "code",
   "execution_count": 36,
   "id": "017155e5",
   "metadata": {},
   "outputs": [
    {
     "name": "stdout",
     "output_type": "stream",
     "text": [
      "              precision    recall  f1-score   support\n",
      "\n",
      "           0       0.93      0.92      0.92       889\n",
      "           1       0.77      0.62      0.68       344\n",
      "           2       1.00      1.00      1.00       500\n",
      "           3       0.82      0.95      0.88      1461\n",
      "           4       0.80      0.60      0.69       162\n",
      "           5       1.00      0.22      0.36        69\n",
      "           6       0.91      0.80      0.85        54\n",
      "           7       0.69      0.28      0.40       102\n",
      "\n",
      "    accuracy                           0.87      3581\n",
      "   macro avg       0.86      0.67      0.72      3581\n",
      "weighted avg       0.87      0.87      0.86      3581\n",
      "\n"
     ]
    },
    {
     "data": {
      "image/png": "[encoded data removed]",
      "text/plain": [
       "<Figure size 576x432 with 2 Axes>"
      ]
     },
     "metadata": {
      "needs_background": "light"
     },
     "output_type": "display_data"
    },
    {
     "name": "stdout",
     "output_type": "stream",
     "text": [
      "accuracy :  0.866238480871265\n",
      "f1_weighted:  0.8554767979263261\n",
      "f1_macro:  0.7231776527764309\n"
     ]
    }
   ],
   "source": [
    "from sklearn.linear_model import SGDClassifier\n",
    "\n",
    "# Create an instance of the SGDClassifier\n",
    "model = SGDClassifier(loss='hinge', penalty='l2', max_iter=1000, tol=1e-3)\n",
    "f1_weighted,f1_macro=eval_model2(model, x_train_tfidf, y_train, x_val_tfidf, y_val)\n",
    "store_result(f1_weighted,f1_macro)"
   ]
  },
  {
   "cell_type": "code",
   "execution_count": 37,
   "id": "bf72ed7d",
   "metadata": {},
   "outputs": [
    {
     "name": "stderr",
     "output_type": "stream",
     "text": [
      "C:\\Users\\DELL\\anaconda3\\envs\\neural\\lib\\site-packages\\sklearn\\metrics\\_classification.py:1248: UndefinedMetricWarning: Precision and F-score are ill-defined and being set to 0.0 in labels with no predicted samples. Use `zero_division` parameter to control this behavior.\n",
      "  _warn_prf(average, modifier, msg_start, len(result))\n",
      "C:\\Users\\DELL\\anaconda3\\envs\\neural\\lib\\site-packages\\sklearn\\metrics\\_classification.py:1248: UndefinedMetricWarning: Precision and F-score are ill-defined and being set to 0.0 in labels with no predicted samples. Use `zero_division` parameter to control this behavior.\n",
      "  _warn_prf(average, modifier, msg_start, len(result))\n",
      "C:\\Users\\DELL\\anaconda3\\envs\\neural\\lib\\site-packages\\sklearn\\metrics\\_classification.py:1248: UndefinedMetricWarning: Precision and F-score are ill-defined and being set to 0.0 in labels with no predicted samples. Use `zero_division` parameter to control this behavior.\n",
      "  _warn_prf(average, modifier, msg_start, len(result))\n"
     ]
    },
    {
     "name": "stdout",
     "output_type": "stream",
     "text": [
      "              precision    recall  f1-score   support\n",
      "\n",
      "           0       0.88      0.89      0.89       889\n",
      "           1       0.92      0.36      0.51       344\n",
      "           2       1.00      1.00      1.00       500\n",
      "           3       0.72      0.98      0.83      1461\n",
      "           4       0.80      0.27      0.41       162\n",
      "           5       0.00      0.00      0.00        69\n",
      "           6       0.00      0.00      0.00        54\n",
      "           7       0.00      0.00      0.00       102\n",
      "\n",
      "    accuracy                           0.81      3581\n",
      "   macro avg       0.54      0.44      0.45      3581\n",
      "weighted avg       0.78      0.81      0.77      3581\n",
      "\n"
     ]
    },
    {
     "data": {
      "image/png": "[encoded data removed]",
      "text/plain": [
       "<Figure size 576x432 with 2 Axes>"
      ]
     },
     "metadata": {
      "needs_background": "light"
     },
     "output_type": "display_data"
    },
    {
     "name": "stdout",
     "output_type": "stream",
     "text": [
      "accuracy :  0.8067578888578609\n",
      "f1_weighted:  0.7651631393931645\n",
      "f1_macro:  0.4542632279196186\n"
     ]
    }
   ],
   "source": [
    "from sklearn.naive_bayes import MultinomialNB\n",
    "\n",
    "model=MultinomialNB()\n",
    "f1_weighted,f1_macro=eval_model2(model, x_train_tfidf, y_train, x_val_tfidf, y_val)\n",
    "store_result(f1_weighted,f1_macro)"
   ]
  },
  {
   "cell_type": "code",
   "execution_count": null,
   "id": "f66f06be",
   "metadata": {},
   "outputs": [],
   "source": [
    "\n",
    "from sklearn.neural_network import MLPClassifier\n",
    "\n",
    "model=MLPClassifier(hidden_layer_sizes=(10,))\n",
    "\n",
    "f1_weighted,f1_macro=eval_model2(model, x_train_tfidf, y_train, x_val_tfidf, y_val)\n",
    "store_result(f1_weighted,f1_macro)\n"
   ]
  },
  {
   "cell_type": "code",
   "execution_count": null,
   "id": "1440ac41",
   "metadata": {},
   "outputs": [],
   "source": [
    "\n",
    "from sklearn.neural_network import MLPClassifier\n",
    "\n",
    "model=MLPClassifier(hidden_layer_sizes=(20,))\n",
    "\n",
    "f1_weighted,f1_macro=eval_model2(model, x_train_tfidf, y_train, x_val_tfidf, y_val)\n",
    "store_result(f1_weighted,f1_macro)\n"
   ]
  },
  {
   "cell_type": "code",
   "execution_count": null,
   "id": "27ee7ced",
   "metadata": {},
   "outputs": [],
   "source": [
    "\n",
    "from sklearn.neural_network import MLPClassifier\n",
    "\n",
    "model=MLPClassifier(hidden_layer_sizes=(30,))\n",
    "\n",
    "f1_weighted,f1_macro=eval_model2(model, x_train_tfidf, y_train, x_val_tfidf, y_val)\n",
    "store_result(f1_weighted,f1_macro)\n"
   ]
  },
  {
   "cell_type": "code",
   "execution_count": null,
   "id": "f6f3b9a7",
   "metadata": {},
   "outputs": [],
   "source": [
    "\n",
    "from sklearn.neural_network import MLPClassifier\n",
    "\n",
    "model=MLPClassifier(hidden_layer_sizes=(50,))\n",
    "\n",
    "f1_weighted,f1_macro=eval_model2(model, x_train_tfidf, y_train, x_val_tfidf, y_val)\n",
    "store_result(f1_weighted,f1_macro)\n"
   ]
  },
  {
   "cell_type": "code",
   "execution_count": null,
   "id": "cb7ff121",
   "metadata": {},
   "outputs": [],
   "source": [
    "results_df = pd.DataFrame(results_dict)\n",
    "results_df"
   ]
  },
  {
   "cell_type": "code",
   "execution_count": null,
   "id": "01ff5264",
   "metadata": {},
   "outputs": [],
   "source": [
    "import numpy as np\n",
    "import matplotlib.pyplot as plt\n",
    "%matplotlib inline\n",
    "\n",
    "results_df.plot.bar(x='model_name', y=['f1_weighted', 'f1_macro'], figsize=(7, 7))\n",
    "plt.grid(axis='y')\n",
    "plt.show()"
   ]
  },
  {
   "cell_type": "markdown",
   "id": "4bc348f9",
   "metadata": {},
   "source": [
    "# Final Test\n",
    "- Best Model ---> LinearSVC"
   ]
  },
  {
   "cell_type": "code",
   "execution_count": 35,
   "id": "15e5b5db",
   "metadata": {},
   "outputs": [],
   "source": [
    "# evaluate function without y_test (labels) just for see predection\n",
    "def evaluate(model, x_train, y_train, x_test):\n",
    "    model.fit(x_train, y_train)\n",
    "    prediction=model.predict(x_test)\n",
    "    return prediction"
   ]
  },
  {
   "cell_type": "code",
   "execution_count": 36,
   "id": "2cc3c226",
   "metadata": {},
   "outputs": [],
   "source": [
    "#from sklearn.svm import LinearSVC\n",
    "#best_model=LinearSVC()\n",
    "\n",
    "#-----------------------------------------------------------------------------------------------------------------------\n",
    "#from sklearn.linear_model import SGDClassifier\n",
    "#best_model = SGDClassifier(loss='hinge', penalty='l2', max_iter=1000, tol=1e-3)\n",
    "#-----------------------------------------------------------------------------------------------------------------------\n",
    "from sklearn.neural_network import MLPClassifier\n",
    "\n",
    "best_model=MLPClassifier(hidden_layer_sizes=(20,))\n",
    "\n",
    "prediction=evaluate(best_model, x_train_tfidf, y_train,x_test_tfidf)\n"
   ]
  },
  {
   "cell_type": "code",
   "execution_count": 37,
   "id": "40bc46f6",
   "metadata": {},
   "outputs": [
    {
     "data": {
      "text/plain": [
       "array([3, 0, 0, ..., 3, 1, 2], dtype=int64)"
      ]
     },
     "execution_count": 37,
     "metadata": {},
     "output_type": "execute_result"
    }
   ],
   "source": [
    "prediction"
   ]
  },
  {
   "cell_type": "markdown",
   "id": "46c4dc4f",
   "metadata": {},
   "source": [
    "- English: 0\n",
    "- Kannada: 1\n",
    "- sym:2\n",
    "- Tulu: 3\n",
    "- Name: 4 \n",
    "- Mixed: 5\n",
    "- Location: 6\n",
    "- Other: 7\n"
   ]
  },
  {
   "cell_type": "code",
   "execution_count": 38,
   "id": "1c75b649",
   "metadata": {},
   "outputs": [
    {
     "data": {
      "text/html": [
       "<div>\n",
       "<style scoped>\n",
       "    .dataframe tbody tr th:only-of-type {\n",
       "        vertical-align: middle;\n",
       "    }\n",
       "\n",
       "    .dataframe tbody tr th {\n",
       "        vertical-align: top;\n",
       "    }\n",
       "\n",
       "    .dataframe thead th {\n",
       "        text-align: right;\n",
       "    }\n",
       "</style>\n",
       "<table border=\"1\" class=\"dataframe\">\n",
       "  <thead>\n",
       "    <tr style=\"text-align: right;\">\n",
       "      <th></th>\n",
       "      <th>Language</th>\n",
       "    </tr>\n",
       "  </thead>\n",
       "  <tbody>\n",
       "    <tr>\n",
       "      <th>0</th>\n",
       "      <td>3</td>\n",
       "    </tr>\n",
       "    <tr>\n",
       "      <th>1</th>\n",
       "      <td>0</td>\n",
       "    </tr>\n",
       "    <tr>\n",
       "      <th>2</th>\n",
       "      <td>0</td>\n",
       "    </tr>\n",
       "    <tr>\n",
       "      <th>3</th>\n",
       "      <td>0</td>\n",
       "    </tr>\n",
       "    <tr>\n",
       "      <th>4</th>\n",
       "      <td>3</td>\n",
       "    </tr>\n",
       "    <tr>\n",
       "      <th>5</th>\n",
       "      <td>3</td>\n",
       "    </tr>\n",
       "    <tr>\n",
       "      <th>6</th>\n",
       "      <td>3</td>\n",
       "    </tr>\n",
       "    <tr>\n",
       "      <th>7</th>\n",
       "      <td>3</td>\n",
       "    </tr>\n",
       "    <tr>\n",
       "      <th>8</th>\n",
       "      <td>3</td>\n",
       "    </tr>\n",
       "    <tr>\n",
       "      <th>9</th>\n",
       "      <td>2</td>\n",
       "    </tr>\n",
       "    <tr>\n",
       "      <th>10</th>\n",
       "      <td>3</td>\n",
       "    </tr>\n",
       "    <tr>\n",
       "      <th>11</th>\n",
       "      <td>3</td>\n",
       "    </tr>\n",
       "    <tr>\n",
       "      <th>12</th>\n",
       "      <td>3</td>\n",
       "    </tr>\n",
       "    <tr>\n",
       "      <th>13</th>\n",
       "      <td>0</td>\n",
       "    </tr>\n",
       "    <tr>\n",
       "      <th>14</th>\n",
       "      <td>3</td>\n",
       "    </tr>\n",
       "    <tr>\n",
       "      <th>15</th>\n",
       "      <td>3</td>\n",
       "    </tr>\n",
       "    <tr>\n",
       "      <th>16</th>\n",
       "      <td>2</td>\n",
       "    </tr>\n",
       "    <tr>\n",
       "      <th>17</th>\n",
       "      <td>0</td>\n",
       "    </tr>\n",
       "    <tr>\n",
       "      <th>18</th>\n",
       "      <td>0</td>\n",
       "    </tr>\n",
       "    <tr>\n",
       "      <th>19</th>\n",
       "      <td>0</td>\n",
       "    </tr>\n",
       "    <tr>\n",
       "      <th>20</th>\n",
       "      <td>0</td>\n",
       "    </tr>\n",
       "    <tr>\n",
       "      <th>21</th>\n",
       "      <td>3</td>\n",
       "    </tr>\n",
       "    <tr>\n",
       "      <th>22</th>\n",
       "      <td>3</td>\n",
       "    </tr>\n",
       "    <tr>\n",
       "      <th>23</th>\n",
       "      <td>0</td>\n",
       "    </tr>\n",
       "    <tr>\n",
       "      <th>24</th>\n",
       "      <td>3</td>\n",
       "    </tr>\n",
       "    <tr>\n",
       "      <th>25</th>\n",
       "      <td>2</td>\n",
       "    </tr>\n",
       "    <tr>\n",
       "      <th>26</th>\n",
       "      <td>3</td>\n",
       "    </tr>\n",
       "    <tr>\n",
       "      <th>27</th>\n",
       "      <td>0</td>\n",
       "    </tr>\n",
       "    <tr>\n",
       "      <th>28</th>\n",
       "      <td>0</td>\n",
       "    </tr>\n",
       "    <tr>\n",
       "      <th>29</th>\n",
       "      <td>2</td>\n",
       "    </tr>\n",
       "  </tbody>\n",
       "</table>\n",
       "</div>"
      ],
      "text/plain": [
       "    Language\n",
       "0          3\n",
       "1          0\n",
       "2          0\n",
       "3          0\n",
       "4          3\n",
       "5          3\n",
       "6          3\n",
       "7          3\n",
       "8          3\n",
       "9          2\n",
       "10         3\n",
       "11         3\n",
       "12         3\n",
       "13         0\n",
       "14         3\n",
       "15         3\n",
       "16         2\n",
       "17         0\n",
       "18         0\n",
       "19         0\n",
       "20         0\n",
       "21         3\n",
       "22         3\n",
       "23         0\n",
       "24         3\n",
       "25         2\n",
       "26         3\n",
       "27         0\n",
       "28         0\n",
       "29         2"
      ]
     },
     "execution_count": 38,
     "metadata": {},
     "output_type": "execute_result"
    }
   ],
   "source": [
    "predictions_df = pd.DataFrame(prediction, columns=['Language'])\n",
    "\n",
    "# Print the first few rows of the DataFrame\n",
    "predictions_df.head(30)"
   ]
  },
  {
   "cell_type": "code",
   "execution_count": 39,
   "id": "9036941d",
   "metadata": {},
   "outputs": [
    {
     "data": {
      "text/html": [
       "<div>\n",
       "<style scoped>\n",
       "    .dataframe tbody tr th:only-of-type {\n",
       "        vertical-align: middle;\n",
       "    }\n",
       "\n",
       "    .dataframe tbody tr th {\n",
       "        vertical-align: top;\n",
       "    }\n",
       "\n",
       "    .dataframe thead th {\n",
       "        text-align: right;\n",
       "    }\n",
       "</style>\n",
       "<table border=\"1\" class=\"dataframe\">\n",
       "  <thead>\n",
       "    <tr style=\"text-align: right;\">\n",
       "      <th></th>\n",
       "      <th>Language</th>\n",
       "    </tr>\n",
       "  </thead>\n",
       "  <tbody>\n",
       "    <tr>\n",
       "      <th>0</th>\n",
       "      <td>3</td>\n",
       "    </tr>\n",
       "    <tr>\n",
       "      <th>1</th>\n",
       "      <td>0</td>\n",
       "    </tr>\n",
       "    <tr>\n",
       "      <th>2</th>\n",
       "      <td>0</td>\n",
       "    </tr>\n",
       "    <tr>\n",
       "      <th>3</th>\n",
       "      <td>0</td>\n",
       "    </tr>\n",
       "    <tr>\n",
       "      <th>4</th>\n",
       "      <td>3</td>\n",
       "    </tr>\n",
       "    <tr>\n",
       "      <th>...</th>\n",
       "      <td>...</td>\n",
       "    </tr>\n",
       "    <tr>\n",
       "      <th>10500</th>\n",
       "      <td>2</td>\n",
       "    </tr>\n",
       "    <tr>\n",
       "      <th>10501</th>\n",
       "      <td>3</td>\n",
       "    </tr>\n",
       "    <tr>\n",
       "      <th>10502</th>\n",
       "      <td>3</td>\n",
       "    </tr>\n",
       "    <tr>\n",
       "      <th>10503</th>\n",
       "      <td>1</td>\n",
       "    </tr>\n",
       "    <tr>\n",
       "      <th>10504</th>\n",
       "      <td>2</td>\n",
       "    </tr>\n",
       "  </tbody>\n",
       "</table>\n",
       "<p>10505 rows × 1 columns</p>\n",
       "</div>"
      ],
      "text/plain": [
       "       Language\n",
       "0             3\n",
       "1             0\n",
       "2             0\n",
       "3             0\n",
       "4             3\n",
       "...         ...\n",
       "10500         2\n",
       "10501         3\n",
       "10502         3\n",
       "10503         1\n",
       "10504         2\n",
       "\n",
       "[10505 rows x 1 columns]"
      ]
     },
     "execution_count": 39,
     "metadata": {},
     "output_type": "execute_result"
    }
   ],
   "source": [
    "predictions_df"
   ]
  },
  {
   "cell_type": "code",
   "execution_count": 40,
   "id": "6100f4d8",
   "metadata": {},
   "outputs": [
    {
     "data": {
      "text/plain": [
       "(10505, 1)"
      ]
     },
     "execution_count": 40,
     "metadata": {},
     "output_type": "execute_result"
    }
   ],
   "source": [
    "predictions_df.shape"
   ]
  },
  {
   "cell_type": "code",
   "execution_count": 41,
   "id": "449113fb",
   "metadata": {},
   "outputs": [
    {
     "data": {
      "text/plain": [
       "(10505, 1)"
      ]
     },
     "execution_count": 41,
     "metadata": {},
     "output_type": "execute_result"
    }
   ],
   "source": [
    "word_test_data.shape"
   ]
  },
  {
   "cell_type": "code",
   "execution_count": 42,
   "id": "bd9f2c0f",
   "metadata": {},
   "outputs": [
    {
     "name": "stdout",
     "output_type": "stream",
     "text": [
      "         Words  Language\n",
      "0            E         3\n",
      "1       Chanel         0\n",
      "2         full         0\n",
      "3        movie         0\n",
      "4       padera         3\n",
      "...        ...       ...\n",
      "10500        .         2\n",
      "10501    appeg         3\n",
      "10502     kopa         3\n",
      "10503  jaasthi         1\n",
      "10504        .         2\n",
      "\n",
      "[10505 rows x 2 columns]\n"
     ]
    }
   ],
   "source": [
    "\n",
    "result = word_test_data.join(predictions_df,lsuffix='_test',rsuffix='_pred')\n",
    "\n",
    "print(result) \n",
    "\n",
    "\n",
    "result.to_csv('BFCAI_Run1.csv', index=False)"
   ]
  },
  {
   "cell_type": "code",
   "execution_count": 23,
   "id": "594aa71d",
   "metadata": {},
   "outputs": [
    {
     "data": {
      "text/html": [
       "<div>\n",
       "<style scoped>\n",
       "    .dataframe tbody tr th:only-of-type {\n",
       "        vertical-align: middle;\n",
       "    }\n",
       "\n",
       "    .dataframe tbody tr th {\n",
       "        vertical-align: top;\n",
       "    }\n",
       "\n",
       "    .dataframe thead th {\n",
       "        text-align: right;\n",
       "    }\n",
       "</style>\n",
       "<table border=\"1\" class=\"dataframe\">\n",
       "  <thead>\n",
       "    <tr style=\"text-align: right;\">\n",
       "      <th></th>\n",
       "      <th>Words</th>\n",
       "      <th>Language</th>\n",
       "    </tr>\n",
       "  </thead>\n",
       "  <tbody>\n",
       "    <tr>\n",
       "      <th>0</th>\n",
       "      <td>E</td>\n",
       "      <td>3</td>\n",
       "    </tr>\n",
       "    <tr>\n",
       "      <th>1</th>\n",
       "      <td>Chanel</td>\n",
       "      <td>0</td>\n",
       "    </tr>\n",
       "    <tr>\n",
       "      <th>2</th>\n",
       "      <td>full</td>\n",
       "      <td>0</td>\n",
       "    </tr>\n",
       "    <tr>\n",
       "      <th>3</th>\n",
       "      <td>movie</td>\n",
       "      <td>0</td>\n",
       "    </tr>\n",
       "    <tr>\n",
       "      <th>4</th>\n",
       "      <td>padera</td>\n",
       "      <td>3</td>\n",
       "    </tr>\n",
       "    <tr>\n",
       "      <th>5</th>\n",
       "      <td>dumbu</td>\n",
       "      <td>3</td>\n",
       "    </tr>\n",
       "    <tr>\n",
       "      <th>6</th>\n",
       "      <td>bethe</td>\n",
       "      <td>3</td>\n",
       "    </tr>\n",
       "    <tr>\n",
       "      <th>7</th>\n",
       "      <td>yerandla</td>\n",
       "      <td>3</td>\n",
       "    </tr>\n",
       "    <tr>\n",
       "      <th>8</th>\n",
       "      <td>paduverandu</td>\n",
       "      <td>3</td>\n",
       "    </tr>\n",
       "    <tr>\n",
       "      <th>9</th>\n",
       "      <td>.</td>\n",
       "      <td>2</td>\n",
       "    </tr>\n",
       "  </tbody>\n",
       "</table>\n",
       "</div>"
      ],
      "text/plain": [
       "         Words  Language\n",
       "0            E         3\n",
       "1       Chanel         0\n",
       "2         full         0\n",
       "3        movie         0\n",
       "4       padera         3\n",
       "5        dumbu         3\n",
       "6        bethe         3\n",
       "7     yerandla         3\n",
       "8  paduverandu         3\n",
       "9            .         2"
      ]
     },
     "execution_count": 23,
     "metadata": {},
     "output_type": "execute_result"
    }
   ],
   "source": [
    "data = pd.read_csv('result_without_string/BFCAI_Run3.csv')\n",
    "\n",
    "\n",
    "data.head(10)"
   ]
  },
  {
   "cell_type": "code",
   "execution_count": 24,
   "id": "a535f9d2",
   "metadata": {},
   "outputs": [
    {
     "data": {
      "text/plain": [
       "pandas.core.frame.DataFrame"
      ]
     },
     "execution_count": 24,
     "metadata": {},
     "output_type": "execute_result"
    }
   ],
   "source": [
    "type(data)"
   ]
  },
  {
   "cell_type": "code",
   "execution_count": 25,
   "id": "9bc69da5",
   "metadata": {},
   "outputs": [],
   "source": [
    "language_dict = {0: 'English', 1: 'Kannada', 2: 'sym', 3: 'Tulu', 4: 'Name', 5: 'Mixed', 6: 'Location', 7: 'Other'}\n",
    "\n",
    "# Replace the integers in the 'language' column with the corresponding strings\n",
    "data['Language'] = data['Language'].replace(language_dict)"
   ]
  },
  {
   "cell_type": "code",
   "execution_count": 26,
   "id": "02deb52f",
   "metadata": {},
   "outputs": [
    {
     "data": {
      "text/html": [
       "<div>\n",
       "<style scoped>\n",
       "    .dataframe tbody tr th:only-of-type {\n",
       "        vertical-align: middle;\n",
       "    }\n",
       "\n",
       "    .dataframe tbody tr th {\n",
       "        vertical-align: top;\n",
       "    }\n",
       "\n",
       "    .dataframe thead th {\n",
       "        text-align: right;\n",
       "    }\n",
       "</style>\n",
       "<table border=\"1\" class=\"dataframe\">\n",
       "  <thead>\n",
       "    <tr style=\"text-align: right;\">\n",
       "      <th></th>\n",
       "      <th>Words</th>\n",
       "      <th>Language</th>\n",
       "    </tr>\n",
       "  </thead>\n",
       "  <tbody>\n",
       "    <tr>\n",
       "      <th>0</th>\n",
       "      <td>E</td>\n",
       "      <td>Tulu</td>\n",
       "    </tr>\n",
       "    <tr>\n",
       "      <th>1</th>\n",
       "      <td>Chanel</td>\n",
       "      <td>English</td>\n",
       "    </tr>\n",
       "    <tr>\n",
       "      <th>2</th>\n",
       "      <td>full</td>\n",
       "      <td>English</td>\n",
       "    </tr>\n",
       "    <tr>\n",
       "      <th>3</th>\n",
       "      <td>movie</td>\n",
       "      <td>English</td>\n",
       "    </tr>\n",
       "    <tr>\n",
       "      <th>4</th>\n",
       "      <td>padera</td>\n",
       "      <td>Tulu</td>\n",
       "    </tr>\n",
       "    <tr>\n",
       "      <th>5</th>\n",
       "      <td>dumbu</td>\n",
       "      <td>Tulu</td>\n",
       "    </tr>\n",
       "    <tr>\n",
       "      <th>6</th>\n",
       "      <td>bethe</td>\n",
       "      <td>Tulu</td>\n",
       "    </tr>\n",
       "    <tr>\n",
       "      <th>7</th>\n",
       "      <td>yerandla</td>\n",
       "      <td>Tulu</td>\n",
       "    </tr>\n",
       "    <tr>\n",
       "      <th>8</th>\n",
       "      <td>paduverandu</td>\n",
       "      <td>Tulu</td>\n",
       "    </tr>\n",
       "    <tr>\n",
       "      <th>9</th>\n",
       "      <td>.</td>\n",
       "      <td>sym</td>\n",
       "    </tr>\n",
       "  </tbody>\n",
       "</table>\n",
       "</div>"
      ],
      "text/plain": [
       "         Words Language\n",
       "0            E     Tulu\n",
       "1       Chanel  English\n",
       "2         full  English\n",
       "3        movie  English\n",
       "4       padera     Tulu\n",
       "5        dumbu     Tulu\n",
       "6        bethe     Tulu\n",
       "7     yerandla     Tulu\n",
       "8  paduverandu     Tulu\n",
       "9            .      sym"
      ]
     },
     "execution_count": 26,
     "metadata": {},
     "output_type": "execute_result"
    }
   ],
   "source": [
    "data.head(10)"
   ]
  },
  {
   "cell_type": "code",
   "execution_count": 27,
   "id": "a77aa58c",
   "metadata": {},
   "outputs": [],
   "source": [
    "data.to_csv('actual_tag/BFCAI_Run3.csv', index=False)"
   ]
  },
  {
   "cell_type": "code",
   "execution_count": null,
   "id": "0c8ffeed",
   "metadata": {},
   "outputs": [],
   "source": []
  }
 ],
 "metadata": {
  "kernelspec": {
   "display_name": "Python 3 (ipykernel)",
   "language": "python",
   "name": "python3"
  },
  "language_info": {
   "codemirror_mode": {
    "name": "ipython",
    "version": 3
   },
   "file_extension": ".py",
   "mimetype": "text/x-python",
   "name": "python",
   "nbconvert_exporter": "python",
   "pygments_lexer": "ipython3",
   "version": "3.8.8"
  }
 },
 "nbformat": 4,
 "nbformat_minor": 5
}
